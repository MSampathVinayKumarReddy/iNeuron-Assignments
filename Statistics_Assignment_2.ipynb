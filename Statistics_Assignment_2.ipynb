{
  "nbformat": 4,
  "nbformat_minor": 0,
  "metadata": {
    "colab": {
      "name": "Statistics Assignment 2",
      "provenance": [],
      "collapsed_sections": [],
      "authorship_tag": "ABX9TyOoOo5Jqnn4BMVQRgiq+3Ca",
      "include_colab_link": true
    },
    "kernelspec": {
      "name": "python3",
      "display_name": "Python 3"
    }
  },
  "cells": [
    {
      "cell_type": "markdown",
      "metadata": {
        "id": "view-in-github",
        "colab_type": "text"
      },
      "source": [
        "<a href=\"https://colab.research.google.com/github/MSampathVinayKumarReddy/iNeuron-Assignments/blob/main/Statistics_Assignment_2.ipynb\" target=\"_parent\"><img src=\"https://colab.research.google.com/assets/colab-badge.svg\" alt=\"Open In Colab\"/></a>"
      ]
    },
    {
      "cell_type": "markdown",
      "metadata": {
        "id": "uP5oOIoK1oKG"
      },
      "source": [
        "# Problem 1"
      ]
    },
    {
      "cell_type": "code",
      "metadata": {
        "id": "UNTIvi3A1mdE"
      },
      "source": [
        "# (i) = Yes,because both are a population parameter and are condraction to one another \r\n",
        "# (ii) = Yes, because both are a population parameter and are condraction to one another\r\n",
        "# (iii) = No, we cannot take sample data in hypothesis \r\n",
        "# (iv) = No, both has equal symbol\r\n",
        "# (v) = No, Hypothesis is not about taking sample "
      ],
      "execution_count": null,
      "outputs": []
    },
    {
      "cell_type": "markdown",
      "metadata": {
        "id": "55Z6Jazn3e0B"
      },
      "source": [
        "# Problem 2"
      ]
    },
    {
      "cell_type": "code",
      "metadata": {
        "colab": {
          "base_uri": "https://localhost:8080/"
        },
        "id": "0qOWijXq3hWa",
        "outputId": "6ffc7cf6-263c-40c9-b3d5-9741e3f9ce8d"
      },
      "source": [
        "import numpy as np\r\n",
        "import pandas as pd\r\n",
        "from scipy import stats\r\n",
        "\r\n",
        "# H0: mean=52\r\n",
        "# H1: mean<52 or mean>52\r\n",
        "# we will perform two tailed test\r\n",
        "\r\n",
        "pop_mean=52\r\n",
        "pop_std=4.50\r\n",
        "n=100\r\n",
        "sample_mean=52.80\r\n",
        "\r\n",
        "SE=pop_std/n**0.5\r\n",
        "Z=(sample_mean-pop_mean)/SE\r\n",
        "\r\n",
        "print('Ztest score is: ', Z)\r\n",
        "\r\n",
        "# given alpha = 0.05 but we are performing two tailed test so 0.05/2=0.025\r\n",
        "# at alpha = 0.025, Z value = -1.96 , 1.96\r\n",
        "# Here Ztest < critical region\r\n",
        "print('Critical Region is: -1.96 to 1.96')\r\n",
        "#Accept H0"
      ],
      "execution_count": 1,
      "outputs": [
        {
          "output_type": "stream",
          "text": [
            "Ztest score is:  1.7777777777777715\n",
            "Critical Region is: -1.96 to 1.96\n"
          ],
          "name": "stdout"
        }
      ]
    },
    {
      "cell_type": "markdown",
      "metadata": {
        "id": "SKgHRRtQ38QM"
      },
      "source": [
        "# Problem 3"
      ]
    },
    {
      "cell_type": "code",
      "metadata": {
        "colab": {
          "base_uri": "https://localhost:8080/"
        },
        "id": "yaKlE8bn3_jh",
        "outputId": "40f7a716-edf9-4aca-9d40-4863bc35384c"
      },
      "source": [
        "import numpy as np\r\n",
        "import pandas as pd\r\n",
        "from scipy import stats\r\n",
        "\r\n",
        "# H0: mean<34\r\n",
        "# H1: mean=34 or mean>34\r\n",
        "# we will perform two tailed test\r\n",
        "\r\n",
        "pop_mean=34\r\n",
        "pop_std=8\r\n",
        "n=50\r\n",
        "sample_mean=32.5\r\n",
        "\r\n",
        "SE=pop_std/n**0.5\r\n",
        "Z=(sample_mean-pop_mean)/SE\r\n",
        "\r\n",
        "print('Z test score is: ', Z)\r\n",
        "\r\n",
        "# given alpha=0.01 here we are performing two tailed test so 0.01/2 =0.005\r\n",
        "# at alpha=0.005, Z values are -2.57 to 2.57\r\n",
        "# Here Ztest<Critical Region\r\n",
        "\r\n",
        "print('Critical Region: -2.57 to 2.57')\r\n",
        "# Accept H0"
      ],
      "execution_count": 2,
      "outputs": [
        {
          "output_type": "stream",
          "text": [
            "Z test score is:  -1.3258252147247767\n",
            "Critical Region: -2.57 to 2.57\n"
          ],
          "name": "stdout"
        }
      ]
    },
    {
      "cell_type": "markdown",
      "metadata": {
        "id": "z_MqW8j54RzE"
      },
      "source": [
        "# Problem 4"
      ]
    },
    {
      "cell_type": "code",
      "metadata": {
        "colab": {
          "base_uri": "https://localhost:8080/"
        },
        "id": "_VKc7-s74VkE",
        "outputId": "8483cf81-945b-4c81-aa94-5ec72da80787"
      },
      "source": [
        "import pandas as pd\r\n",
        "import numpy as np\r\n",
        "from scipy import stats\r\n",
        "import statistics\r\n",
        "\r\n",
        "# HO: mean=1135\r\n",
        "# H1: mean>1135 or mean<1135\r\n",
        "#Perform two tailed test\r\n",
        "\r\n",
        "n=22\r\n",
        "sample_data=[1008, 812, 1117, 1323, 1308, 1415, 831, 1021, 1287, 851, 930, 730, 699, 872, 913, 944, 954, 987, 1695, 995, 1003, 994]\r\n",
        "sample_mean=sum(sample_data)/n\r\n",
        "sample_std=statistics.pstdev(sample_data)\r\n",
        "pop_mean=1135\r\n",
        "\r\n",
        "# T test should be used as the sample size is less than 30\r\n",
        "# Degree of freedom is n-1 i.e., 22-1 =21\r\n",
        "\r\n",
        "SE=sample_std/n**0.5\r\n",
        "T=(sample_mean-pop_mean)/SE\r\n",
        "print('T score is: ', T)\r\n",
        "\r\n",
        "# alpha=0.5 so alpha/2 = 0.5/2= 0.25\r\n",
        "print('Critical Region is:  -0.686 and 0.686')\r\n",
        "# Reject H0"
      ],
      "execution_count": 3,
      "outputs": [
        {
          "output_type": "stream",
          "text": [
            "T score is:  -2.070747228595759\n",
            "Critical Region is:  -0.686 and 0.686\n"
          ],
          "name": "stdout"
        }
      ]
    },
    {
      "cell_type": "markdown",
      "metadata": {
        "id": "ffAuQ72d4iGK"
      },
      "source": [
        "# Problem 5"
      ]
    },
    {
      "cell_type": "code",
      "metadata": {
        "colab": {
          "base_uri": "https://localhost:8080/"
        },
        "id": "HBRFLYlF4xS0",
        "outputId": "44874e74-5349-4906-f345-9362a60fa39a"
      },
      "source": [
        "import pandas as pd\r\n",
        "import numpy as np\r\n",
        "from scipy import stats\r\n",
        "\r\n",
        "pop_mean=48432\r\n",
        "pop_std=2000\r\n",
        "n=400\r\n",
        "sample_mean=48574\r\n",
        "\r\n",
        "SE=pop_std/n**0.5\r\n",
        "Z=(sample_mean-pop_mean)/SE\r\n",
        "print('The Z score is: ',Z)\r\n",
        "\r\n",
        "# alpha=0.05 ---> 0.05/2 Z values is -1.96 and 1.96 \r\n",
        "\r\n",
        "print('Critical Region is: -1.96 and 1.96 ')\r\n",
        "# Accept H0"
      ],
      "execution_count": 4,
      "outputs": [
        {
          "output_type": "stream",
          "text": [
            "The Z score is:  1.42\n",
            "Critical Region is: -1.96 and 1.96 \n"
          ],
          "name": "stdout"
        }
      ]
    },
    {
      "cell_type": "markdown",
      "metadata": {
        "id": "WKhqSAAA416V"
      },
      "source": [
        "# Problem 6"
      ]
    },
    {
      "cell_type": "code",
      "metadata": {
        "colab": {
          "base_uri": "https://localhost:8080/"
        },
        "id": "SlOAC4pQ49Bi",
        "outputId": "5fd5fb9c-36cd-46a4-bc18-b1b569e9f921"
      },
      "source": [
        "import pandas as pd\r\n",
        "import numpy as np\r\n",
        "from scipy import stats\r\n",
        "\r\n",
        "pop_mean=32.28\r\n",
        "n=19\r\n",
        "sample_mean =31.67\r\n",
        "sample_std =1.29\r\n",
        "#T test as the sample is small\r\n",
        "#alpha =0.05----> 0.05/2 \r\n",
        "\r\n",
        "SE=sample_std/(n**0.5)\r\n",
        "T=(sample_mean-pop_mean)/SE\r\n",
        "\r\n",
        "print('T score is: ',T)\r\n",
        "\r\n",
        "print('Critical Region is: -2.1 and 2.1 ')\r\n",
        "# Reject H0"
      ],
      "execution_count": 5,
      "outputs": [
        {
          "output_type": "stream",
          "text": [
            "T score is:  -2.06118477175179\n",
            "Critical Region is: -2.1 and 2.1 \n"
          ],
          "name": "stdout"
        }
      ]
    },
    {
      "cell_type": "markdown",
      "metadata": {
        "id": "1ui9QZc15Ae8"
      },
      "source": [
        "# Problem 8"
      ]
    },
    {
      "cell_type": "code",
      "metadata": {
        "colab": {
          "base_uri": "https://localhost:8080/"
        },
        "id": "MGFEBUIM5Njj",
        "outputId": "4957b586-b7e1-4c58-dc53-ef7e6f0a40c5"
      },
      "source": [
        "pop_mean=10\r\n",
        "sample_mean=12\r\n",
        "sample_std=1.5\r\n",
        "n=16\r\n",
        "\r\n",
        "SE=sample_std/n**0.5\r\n",
        "T=(sample_mean-pop_mean)/SE\r\n",
        "print('T score is: ',T)"
      ],
      "execution_count": 6,
      "outputs": [
        {
          "output_type": "stream",
          "text": [
            "T score is:  5.333333333333333\n"
          ],
          "name": "stdout"
        }
      ]
    },
    {
      "cell_type": "markdown",
      "metadata": {
        "id": "H1hz74or5Xoi"
      },
      "source": [
        "# Problem 9"
      ]
    },
    {
      "cell_type": "code",
      "metadata": {
        "colab": {
          "base_uri": "https://localhost:8080/"
        },
        "id": "Oy6J_IpG5b8s",
        "outputId": "a02151c7-085e-4c32-b92f-63242de5bbe3"
      },
      "source": [
        "n=16\r\n",
        "degree_of_freedom=16-1\r\n",
        "# alpha=0.01/2=0.005\r\n",
        "# so from table we can calculate at n=15 and alpha=0.005 is \r\n",
        "solution=2.946712883338615\r\n",
        "print('T score is: ',solution)"
      ],
      "execution_count": 7,
      "outputs": [
        {
          "output_type": "stream",
          "text": [
            "T score is:  2.946712883338615\n"
          ],
          "name": "stdout"
        }
      ]
    },
    {
      "cell_type": "markdown",
      "metadata": {
        "id": "f_Dv0Mga5j21"
      },
      "source": [
        "# Problem 11"
      ]
    },
    {
      "cell_type": "code",
      "metadata": {
        "colab": {
          "base_uri": "https://localhost:8080/"
        },
        "id": "lGc9R1RH5oXO",
        "outputId": "aaf261c3-edaf-4048-a0e1-a9e39333df2a"
      },
      "source": [
        "n1 = 1200 \r\n",
        "x1 = 452\r\n",
        "s1 = 212\r\n",
        "n2 = 800\r\n",
        "x2 = 523\r\n",
        "s2 = 185\r\n",
        "#H0: No of people going from Bangalore to Chennai is same as Bangalore to Hosur\r\n",
        "#H1: No of people going from Bangalore to Chennai is not same as Bangalore to Hosur\r\n",
        "sqr_s1=s1*s1\r\n",
        "sqr_s2=s2*s2\r\n",
        "SE=((sqr_s1/n1)+(sqr_s2/n2))**0.5\r\n",
        "Z=(x1-x2)/SE\r\n",
        "\r\n",
        "print('Z score is: ', Z)\r\n",
        "print('Critical Region is: -1.959, 1.959')\r\n",
        "\r\n",
        "#Reject H0"
      ],
      "execution_count": 8,
      "outputs": [
        {
          "output_type": "stream",
          "text": [
            "Z score is:  -7.926428526759299\n",
            "Critical Region is: -1.959, 1.959\n"
          ],
          "name": "stdout"
        }
      ]
    },
    {
      "cell_type": "markdown",
      "metadata": {
        "id": "075Xed9q51Ni"
      },
      "source": [
        "# Problem 12"
      ]
    },
    {
      "cell_type": "code",
      "metadata": {
        "colab": {
          "base_uri": "https://localhost:8080/"
        },
        "id": "sdmj7vSn54hN",
        "outputId": "b054abdb-6c04-48d3-a393-9243b94b9765"
      },
      "source": [
        "n1 = 100\r\n",
        "x1 = 308\r\n",
        "s1 = 84\r\n",
        "n2 = 100\r\n",
        "x2 = 254\r\n",
        "s2 = 67\r\n",
        "#H0: Number of people preferring Duracell battery is same as Energizer battery\r\n",
        "#H1: Number of people preferring Duracell battery is not same as Energizer battery\r\n",
        "sqr_s1=s1*s1\r\n",
        "sqr_s2=s2*s2\r\n",
        "SE=((sqr_s1/n1)+(sqr_s2/n2))**0.5\r\n",
        "Z=(x1-x2)/SE\r\n",
        "\r\n",
        "print('Z score is: ', Z)\r\n",
        "print('Critical Region is: -1.959, 1.959')"
      ],
      "execution_count": 9,
      "outputs": [
        {
          "output_type": "stream",
          "text": [
            "Z score is:  5.025702668336442\n",
            "Critical Region is: -1.959, 1.959\n"
          ],
          "name": "stdout"
        }
      ]
    },
    {
      "cell_type": "markdown",
      "metadata": {
        "id": "xweoK85Z6AT2"
      },
      "source": [
        "# Problem 13"
      ]
    },
    {
      "cell_type": "code",
      "metadata": {
        "colab": {
          "base_uri": "https://localhost:8080/"
        },
        "id": "f99-Renw6HSq",
        "outputId": "081175f5-600a-4764-9326-e1b48f0418b1"
      },
      "source": [
        "n1 = 14 \r\n",
        "x1 = 0.317\r\n",
        "s1 = 0.12 \r\n",
        "n2 = 9 \r\n",
        "x2 = 0.21 \r\n",
        "s2 = 0.11\r\n",
        "sqr_s1=s1**2\r\n",
        "sqr_s2=s2**2\r\n",
        "s=((n1-1)*sqr_s1)+((n2-1)*sqr_s2)\r\n",
        "n=(n1+n2-2)\r\n",
        "SE=(s/n)**0.5\r\n",
        "n_1=((1/n1)+(1/n2))**0.5\r\n",
        "T=(x1-x2)/SE*n_1\r\n",
        "\r\n",
        "print('T score is: ',T)\r\n",
        "print('Critical Region is 1.7207')\r\n",
        "# We accept H0"
      ],
      "execution_count": 10,
      "outputs": [
        {
          "output_type": "stream",
          "text": [
            "T score is:  0.3931089218182991\n",
            "Critical Region is 1.7207\n"
          ],
          "name": "stdout"
        }
      ]
    },
    {
      "cell_type": "markdown",
      "metadata": {
        "id": "lNMqHe9A6XJI"
      },
      "source": [
        "# Problem 14"
      ]
    },
    {
      "cell_type": "code",
      "metadata": {
        "colab": {
          "base_uri": "https://localhost:8080/"
        },
        "id": "AZgriIpl6dnx",
        "outputId": "f716e8a6-3d12-4747-fccd-a72d36f9377a"
      },
      "source": [
        "n1 = 15 \r\n",
        "x1 = 6598 \r\n",
        "s1 = 844 \r\n",
        "n2 = 12 \r\n",
        "x2 = 6870 \r\n",
        "s2 = 669\r\n",
        "sqr_s1=s1**2\r\n",
        "sqr_s2=s2**2\r\n",
        "\r\n",
        "s=((n1-1)*sqr_s1)+((n2-1)*sqr_s2)\r\n",
        "n=(n1+n2-2)\r\n",
        "SE=(s/n)**0.5\r\n",
        "n_1=((1/n1)+(1/n2))**0.5\r\n",
        "T=(x1-x2)/SE*n_1\r\n",
        "\r\n",
        "print('T score is: ',T)\r\n",
        "print('Critical Region is -1.7081')\r\n",
        "# We accept H0"
      ],
      "execution_count": 12,
      "outputs": [
        {
          "output_type": "stream",
          "text": [
            "T score is:  -0.1364745051598569\n",
            "Critical Region is -1.7081\n"
          ],
          "name": "stdout"
        }
      ]
    },
    {
      "cell_type": "markdown",
      "metadata": {
        "id": "lLjMQOKP6sZo"
      },
      "source": [
        "# Problem 17"
      ]
    },
    {
      "cell_type": "code",
      "metadata": {
        "colab": {
          "base_uri": "https://localhost:8080/"
        },
        "id": "NQZFGJ866vTZ",
        "outputId": "1eadc40b-c6a3-42ab-86a3-76e684ba2178"
      },
      "source": [
        "import pandas as pd\r\n",
        "import numpy as np\r\n",
        "from scipy import stats\r\n",
        "import statistics\r\n",
        "\r\n",
        "frequency=[16,20,25,14,29,28]\r\n",
        "probability=[22,22,22,22,22,22]\r\n",
        "solution=stats.chisquare(frequency,probability)\r\n",
        "print('Chi Square value: ', solution[0])\r\n",
        "print('p-value: ',solution[1])\r\n",
        "\r\n",
        "# Dice is unbiased"
      ],
      "execution_count": 13,
      "outputs": [
        {
          "output_type": "stream",
          "text": [
            "Chi Square value:  9.0\n",
            "p-value:  0.1090641579497725\n"
          ],
          "name": "stdout"
        }
      ]
    },
    {
      "cell_type": "markdown",
      "metadata": {
        "id": "pV0hKIhI62nD"
      },
      "source": [
        "# Problem 18"
      ]
    },
    {
      "cell_type": "code",
      "metadata": {
        "colab": {
          "base_uri": "https://localhost:8080/"
        },
        "id": "GaprR7yY66DO",
        "outputId": "682278b4-d093-40cc-f4dc-8957e7cf64a0"
      },
      "source": [
        "given_voted_men=2792\r\n",
        "given_voted_women=3591\r\n",
        "given_not_voted_men=1486\r\n",
        "given_not_voted_women=2131\r\n",
        "total_voted=2792+3591\r\n",
        "total_not_voted=1486+2131\r\n",
        "total_men=2792+1486\r\n",
        "total_women=3591+2131\r\n",
        "expected_voted_men=(total_voted*total_men)/10000\r\n",
        "expected_voted_women=(total_voted*total_women)/10000\r\n",
        "expected_not_voted_men=(total_not_voted*total_men)/10000\r\n",
        "expected_not_voted_women=(total_not_voted*total_women)/10000\r\n",
        "chisquare1=(((given_voted_women-expected_voted_women)**2)/expected_voted_women)\r\n",
        "chisquare2=(((given_voted_men-expected_voted_men)**2)/expected_voted_men)\r\n",
        "chisquare3=(((given_not_voted_men-expected_not_voted_men)**2)/expected_not_voted_men)\r\n",
        "chisquare4=(((given_not_voted_women-expected_not_voted_women)**2)/expected_not_voted_women)\r\n",
        "chisquare=chisquare1+chisquare2+chisquare3+chisquare4\r\n",
        "print(f\"Chi Square value is {chisquare}\")\r\n",
        "print(f\"Critical region with alpha=0.05 is 3.84\")\r\n",
        "print(\"We reject null hypothesis.It is not gender and voting independent\")"
      ],
      "execution_count": 14,
      "outputs": [
        {
          "output_type": "stream",
          "text": [
            "Chi Square value is 6.660455899328067\n",
            "Critical region with alpha=0.05 is 3.84\n",
            "We reject null hypothesis.It is not gender and voting independent\n"
          ],
          "name": "stdout"
        }
      ]
    },
    {
      "cell_type": "markdown",
      "metadata": {
        "id": "sL4C_dbJ7DYQ"
      },
      "source": [
        "# Problem 19"
      ]
    },
    {
      "cell_type": "code",
      "metadata": {
        "colab": {
          "base_uri": "https://localhost:8080/"
        },
        "id": "glD0IhA-7GuY",
        "outputId": "64843ba4-72b2-4c0c-b6b5-36c819bf5650"
      },
      "source": [
        "Frequency=[41,19,24,16]\r\n",
        "Probability=[25,25,25,25]\r\n",
        "result=stats.chisquare(Frequency,Probability)\r\n",
        "print('Chi Square value is:',result[0])\r\n",
        "print(f\"Critical region with 3df and alpha=0.05 is 7.82\")\r\n",
        "print(\"We reject null hypothesis. All candidates are not equally popular\")"
      ],
      "execution_count": 15,
      "outputs": [
        {
          "output_type": "stream",
          "text": [
            "Chi Square value is: 14.959999999999999\n",
            "Critical region with 3df and alpha=0.05 is 7.82\n",
            "We reject null hypothesis. All candidates are not equally popular\n"
          ],
          "name": "stdout"
        }
      ]
    }
  ]
}