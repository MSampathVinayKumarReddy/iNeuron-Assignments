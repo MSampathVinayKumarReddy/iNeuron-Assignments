{
  "nbformat": 4,
  "nbformat_minor": 0,
  "metadata": {
    "colab": {
      "name": "Statistics Assignment1.ipynb",
      "provenance": [],
      "collapsed_sections": [],
      "authorship_tag": "ABX9TyNbEDXa1S2PwdMWVbsuJ9R/",
      "include_colab_link": true
    },
    "kernelspec": {
      "name": "python3",
      "display_name": "Python 3"
    }
  },
  "cells": [
    {
      "cell_type": "markdown",
      "metadata": {
        "id": "view-in-github",
        "colab_type": "text"
      },
      "source": [
        "<a href=\"https://colab.research.google.com/github/MSampathVinayKumarReddy/iNeuron-Assignments/blob/main/Statistics_Assignment1.ipynb\" target=\"_parent\"><img src=\"https://colab.research.google.com/assets/colab-badge.svg\" alt=\"Open In Colab\"/></a>"
      ]
    },
    {
      "cell_type": "markdown",
      "metadata": {
        "id": "qRiqQUPhicF2"
      },
      "source": [
        "# Problem 1\r\n"
      ]
    },
    {
      "cell_type": "code",
      "metadata": {
        "colab": {
          "base_uri": "https://localhost:8080/"
        },
        "id": "GfmgHAsrig7B",
        "outputId": "ea337bb0-3989-404e-e0bc-7d325c476e16"
      },
      "source": [
        "import numpy as np\r\n",
        "import pandas as pd\r\n",
        "from scipy import stats\r\n",
        "import math\r\n",
        "marks = np.asarray([6,7,5,7,7,8,7,6,9,7,4,10,6,8,8,9,5,6,4,8])\r\n",
        "mean=np.mean(marks)\r\n",
        "median=np.median(marks)\r\n",
        "mode=stats.mode(marks)\r\n",
        "standard_deviation=np.std(marks)\r\n",
        "print('mean:  ',mean)\r\n",
        "print('median:  ',median)\r\n",
        "print('mode:  ',mode)\r\n",
        "print('standard deviation:  ',standard_deviation)"
      ],
      "execution_count": 4,
      "outputs": [
        {
          "output_type": "stream",
          "text": [
            "mean:   6.85\n",
            "median:   7.0\n",
            "mode:   ModeResult(mode=array([7]), count=array([5]))\n",
            "standard deviation:   1.5898113095584647\n"
          ],
          "name": "stdout"
        }
      ]
    },
    {
      "cell_type": "markdown",
      "metadata": {
        "id": "RQ6AY9WGikfC"
      },
      "source": [
        "# Problem 2"
      ]
    },
    {
      "cell_type": "code",
      "metadata": {
        "colab": {
          "base_uri": "https://localhost:8080/"
        },
        "id": "bdmv4uK1ioHH",
        "outputId": "f8563dfa-a8a0-4624-e50f-9be70c030bc6"
      },
      "source": [
        "import numpy as np\r\n",
        "import pandas as pd\r\n",
        "from scipy import stats\r\n",
        "import math\r\n",
        "\r\n",
        "calls =np.asarray([28, 122, 217, 130, 120, 86, 80, 90, 140, 120, 70, 40, 145, 113, 90, 68, 174, 194, 170,100, 75, 104, 97, 75,123, 100, 75, 104, 97, 75, 123, 100, 89, 120, 109])\r\n",
        "mean=np.mean(calls)\r\n",
        "median=np.median(calls)\r\n",
        "mode=stats.mode(calls)\r\n",
        "standard_deviation=np.std(calls)\r\n",
        "print('mean:  ',mean)\r\n",
        "print('median:  ',median)\r\n",
        "print('mode:  ',mode)\r\n",
        "print('standard deviation:  ',standard_deviation)"
      ],
      "execution_count": 5,
      "outputs": [
        {
          "output_type": "stream",
          "text": [
            "mean:   107.51428571428572\n",
            "median:   100.0\n",
            "mode:   ModeResult(mode=array([75]), count=array([4]))\n",
            "standard deviation:   38.77287080168403\n"
          ],
          "name": "stdout"
        }
      ]
    },
    {
      "cell_type": "markdown",
      "metadata": {
        "id": "TZmvk-MwipI5"
      },
      "source": [
        "# Problem 3"
      ]
    },
    {
      "cell_type": "code",
      "metadata": {
        "colab": {
          "base_uri": "https://localhost:8080/"
        },
        "id": "Oh8eLjfnitJv",
        "outputId": "c627b624-d133-413a-c6d3-ba3d0bd34dfb"
      },
      "source": [
        "import numpy as np\r\n",
        "import pandas as pd\r\n",
        "from scipy import stats\r\n",
        "\r\n",
        "x = np.array([0,1,2,3,4,5])\r\n",
        "function_x = np.array([0.09,0.15,0.40,0.25,0.10,0.01])\r\n",
        "\r\n",
        "mean_x=np.multiply(x,function_x).sum()\r\n",
        "\r\n",
        "square_x=np.array([i**2 for i in x])\r\n",
        "mean_x1=np.multiply(square_x,function_x).sum()\r\n",
        "\r\n",
        "variance=mean_x1-(mean_x)**2\r\n",
        "print('Mean no of workouts:', mean_x)\r\n",
        "print('Variance of workouts:', variance)\r\n",
        "\r\n",
        "#I've used VAR(X)=E(X^2)-[E(X)]^2  (Expectation Method)\r\n",
        "#E(X)=x.f(x) i.e., x*function_x which gives (mean_x)\r\n",
        "#E(X)=x^2.f(x) i.e., (x^2)*function_x gives (mean_x1)"
      ],
      "execution_count": 6,
      "outputs": [
        {
          "output_type": "stream",
          "text": [
            "Mean no of workouts: 2.15\n",
            "Variance of workouts: 1.2275\n"
          ],
          "name": "stdout"
        }
      ]
    },
    {
      "cell_type": "markdown",
      "metadata": {
        "id": "5X_b4pzTQY-L"
      },
      "source": [
        "# Problem 5"
      ]
    },
    {
      "cell_type": "code",
      "metadata": {
        "id": "Az9rLCWFR-mQ"
      },
      "source": [
        "import numpy as np\r\n",
        "import pandas as pd\r\n",
        "from scipy import special"
      ],
      "execution_count": 13,
      "outputs": []
    },
    {
      "cell_type": "code",
      "metadata": {
        "colab": {
          "base_uri": "https://localhost:8080/"
        },
        "id": "U61qN3zGSG0v",
        "outputId": "7520e748-d487-428b-b699-7021203c54f1"
      },
      "source": [
        "x = 0.3\r\n",
        "y = 0.7\r\n",
        "df=pd.DataFrame({'S':[int(i) for i in range(7)],\r\n",
        "                 'BD':[special.comb(6,i)*(x**i)*(y**(6-i)) for i in range(7)]})\r\n",
        "df['Expected Value']=df['S']*df['BD']\r\n",
        "mean=np.round(df['Expected Value'].sum())\r\n",
        "print('mean: ', mean)\r\n",
        "df['variance']=df['BD']*(df['S']-mean)**2\r\n",
        "std=np.sqrt(df['variance'].sum())\r\n",
        "print('Standard Deviation :', std)"
      ],
      "execution_count": 23,
      "outputs": [
        {
          "output_type": "stream",
          "text": [
            "mean:  2.0\n",
            "Standard Deviation : 1.1401754250991376\n"
          ],
          "name": "stdout"
        }
      ]
    },
    {
      "cell_type": "markdown",
      "metadata": {
        "id": "lc0J7NM0TYwY"
      },
      "source": [
        "# Problem 6"
      ]
    },
    {
      "cell_type": "code",
      "metadata": {
        "colab": {
          "base_uri": "https://localhost:8080/"
        },
        "id": "CmkDVwnWTer4",
        "outputId": "52cb8acf-9941-476c-baa6-8c855ad17bd0"
      },
      "source": [
        "import numpy as np\r\n",
        "import pandas as pd\r\n",
        "from scipy.stats import binom\r\n",
        "\r\n",
        "barakha=binom.pmf(5,12,0.45)\r\n",
        "gaurav=binom.pmf(5,8,0.75)\r\n",
        "\r\n",
        "print('prob of each of them solving 5 questions correctly: ',binom.pmf(5,8,0.75)*binom.pmf(5,12,0.45) )\r\n",
        "print('prob of gaurav solving 4 and barakha solving 6 questions correctly: ',binom.pmf(4,8,0.75)*binom.pmf(6,12,0.45))"
      ],
      "execution_count": 24,
      "outputs": [
        {
          "output_type": "stream",
          "text": [
            "prob of each of them solving 5 questions correctly:  0.04619989057299217\n",
            "prob of gaurav solving 4 and barakha solving 6 questions correctly:  0.018374956477894583\n"
          ],
          "name": "stdout"
        }
      ]
    },
    {
      "cell_type": "markdown",
      "metadata": {
        "id": "ku33rod1UkJC"
      },
      "source": [
        "# Problem 7"
      ]
    },
    {
      "cell_type": "code",
      "metadata": {
        "colab": {
          "base_uri": "https://localhost:8080/",
          "height": 298
        },
        "id": "eq3pEibVUn-3",
        "outputId": "072082a3-a6f2-4ff8-a153-77ff27a94034"
      },
      "source": [
        "import numpy as np\r\n",
        "import pandas as pd\r\n",
        "import matplotlib.pyplot as plt\r\n",
        "from scipy import stats\r\n",
        "from scipy.stats import poisson\r\n",
        "\r\n",
        "# 1min--->72/60 customers\r\n",
        "# 4min--->4*(72/60)\r\n",
        "\r\n",
        "mean=4*(72/60)\r\n",
        "five_in_four=poisson.pmf(k=5,mu=mean)\r\n",
        "not_more_than_three=poisson.pmf(k=3,mu=mean)\r\n",
        "more_than_three=1-poisson.cdf(k=3,mu=mean)\r\n",
        "print(five_in_four,not_more_than_three,more_than_three)\r\n",
        "\r\n",
        "x=list(range(0,10))\r\n",
        "plt.plot(x,poisson.pmf(x,mean),label='poisson pmf')"
      ],
      "execution_count": 27,
      "outputs": [
        {
          "output_type": "stream",
          "text": [
            "0.17474768364388296 0.15169069760753714 0.7057700835034357\n"
          ],
          "name": "stdout"
        },
        {
          "output_type": "execute_result",
          "data": {
            "text/plain": [
              "[<matplotlib.lines.Line2D at 0x7f51bf729ef0>]"
            ]
          },
          "metadata": {
            "tags": []
          },
          "execution_count": 27
        },
        {
          "output_type": "display_data",
          "data": {
            "image/png": "[encoded data removed]",
            "text/plain": [
              "<Figure size 432x288 with 1 Axes>"
            ]
          },
          "metadata": {
            "tags": [],
            "needs_background": "light"
          }
        }
      ]
    },
    {
      "cell_type": "markdown",
      "metadata": {
        "id": "LljKMwv4VSZw"
      },
      "source": [
        "# Problem 8"
      ]
    },
    {
      "cell_type": "code",
      "metadata": {
        "colab": {
          "base_uri": "https://localhost:8080/"
        },
        "id": "3aYckuN6VVcS",
        "outputId": "c197709e-6518-47b5-9284-6973acf7385e"
      },
      "source": [
        "import numpy as np\r\n",
        "import pandas as pd\r\n",
        "from scipy import stats\r\n",
        "\r\n",
        "#Rate of entering=77 per minute\r\n",
        "#error rate= 6/hour=0.1 per minute\r\n",
        "#No of errors per word=0.1/77\r\n",
        "\r\n",
        "from scipy.stats import poisson\r\n",
        "\r\n",
        "#77 words per min\r\n",
        "#Erorr=6/60=0.1per minute\r\n",
        "#No of errors per word=0.1/77\r\n",
        "\r\n",
        "average=0.1/77\r\n",
        "def word(i):\r\n",
        "    return i*average\r\n",
        "print('Prob of getting 2 errors in 455words: ',poisson.pmf(2,mu=word(455)))\r\n",
        "print('Prob of getting 2 errors in 1000words: ',poisson.pmf(2,mu=word(1000)))\r\n",
        "print('Prob of getting 2 errors in 255words: ',poisson.pmf(2,mu=word(255)))\r\n",
        "\r\n",
        "# as no of words increases then the probability of getting errors increases"
      ],
      "execution_count": 28,
      "outputs": [
        {
          "output_type": "stream",
          "text": [
            "Prob of getting 2 errors in 455words:  0.09669027375144444\n",
            "Prob of getting 2 errors in 1000words:  0.23012815007300153\n",
            "Prob of getting 2 errors in 255words:  0.039377135392854104\n"
          ],
          "name": "stdout"
        }
      ]
    },
    {
      "cell_type": "markdown",
      "metadata": {
        "id": "4q4RV9b5VrW4"
      },
      "source": [
        "# Problem 10"
      ]
    },
    {
      "cell_type": "code",
      "metadata": {
        "id": "Zf5dgP1uV0Tp"
      },
      "source": [
        "# Calculated directly from the table\r\n",
        "P(Z>1.26) = 0.10383\r\n",
        "P(Z<-0.86) = 0.19489\r\n",
        "P(Z>-1.37) = 0.91466\r\n",
        "P(−1.25 < Z < 0.37) = 0.53866\r\n",
        "P(Z ≤ −4.6) = 0.00000\r\n",
        "\r\n",
        "P(Z>z)=0.05 is 1.64\r\n",
        "𝑃(−𝑧 < 𝑍 < 𝑧) = 0.99 is 2.58"
      ],
      "execution_count": null,
      "outputs": []
    },
    {
      "cell_type": "markdown",
      "metadata": {
        "id": "Dl_5B-hxWzw7"
      },
      "source": [
        "# Problem 12"
      ]
    },
    {
      "cell_type": "code",
      "metadata": {
        "colab": {
          "base_uri": "https://localhost:8080/"
        },
        "id": "0pmCSAXxW6KR",
        "outputId": "602e1c72-a5f6-4240-f48f-4d6c2833ae0e"
      },
      "source": [
        "import numpy as np\r\n",
        "import pandas as pd\r\n",
        "\r\n",
        "mean_diameter = 0.2508\r\n",
        "std_diameter = 0.0005\r\n",
        "\r\n",
        "# specifications of the shaft are 0.2500 ∓ 0.0015\r\n",
        "# so it lies between 0.2485<d<0.2515\r\n",
        "# Let us only consider d=0.2508 only\r\n",
        "\r\n",
        "def values(mean,std,a,b):\r\n",
        "    a=(a-mean)/std\r\n",
        "    b=(b-mean)/std\r\n",
        "# case1 when d=2508\r\n",
        "case1=0.2508,values(0.2508,0.0005,0.2485,0.2515)\r\n",
        "#case2 when d=2500\r\n",
        "case2=0.2500,values(0.2500,0.0005,0.2485,0.2515)\r\n",
        "print(case1,case2)"
      ],
      "execution_count": 30,
      "outputs": [
        {
          "output_type": "stream",
          "text": [
            "(0.2508, None) (0.25, None)\n"
          ],
          "name": "stdout"
        }
      ]
    }
  ]
}